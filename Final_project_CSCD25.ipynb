{
 "cells": [
  {
   "cell_type": "code",
   "execution_count": null,
   "id": "2d06c626-6611-43ae-b4a9-03d433a87e61",
   "metadata": {},
   "outputs": [],
   "source": [
    "import pandas as pd\n",
    "import matplotlib.pyplot as plt\n",
    "\n",
    "CPU_THREAD_COUNT = 23"
   ]
  },
  {
   "cell_type": "code",
   "execution_count": null,
   "id": "c499d443",
   "metadata": {},
   "outputs": [],
   "source": [
    "%pip install gensim"
   ]
  },
  {
   "cell_type": "code",
   "execution_count": null,
   "id": "2329b139-b5f3-4b07-8807-4957d086b37e",
   "metadata": {},
   "outputs": [],
   "source": [
    "# Help with Word2Vec in Python, from\n",
    "# https://radimrehurek.com/gensim_3.8.3/sklearn_api/w2vmodel.html,\n",
    "# https://stackoverflow.com/questions/57599259/sklearngensim-how-to-use-gensims-word2vec-embedding-for-sklearn-text-classifi#57599620,\n",
    "# https://datascience.stackexchange.com/questions/107549/how-to-fit-word2vec-on-test-data,\n",
    "# https://radimrehurek.com/gensim/models/word2vec.html,\n",
    "# https://towardsdatascience.com/word2vec-explained-49c52b4ccb71,\n",
    "# https://en.wikipedia.org/wiki/Word2vec,\n",
    "from gensim.models import Word2Vec\n",
    "word2vec_model = Word2Vec(workers=CPU_THREAD_COUNT)\n",
    "\n",
    "# TODO: Data exploration and cleaning before feeding into Word2Vec\n",
    "# TODO: Train-test split, maybe have a validation set, maybe use crossvalidation. Follow getting seed values and finding social dimensions in Word2Vec produced space, from the paper \"Reddit in the Time of COVID, Venia Veselovsky and Ashton Anderson. ICWSM 2023\"\n",
    "# TODO: Figure out where American focused subreddits are in Word2Vec space, maybe by clustering or maybe a regression, and split data into American focused and non-American focused\n",
    "# TODO: Redo analysis from said paper on both American and non-American focused data\n",
    "\n",
    "# TODO: Order subreddits by Americanness, to be able to notice any oddities. Make this a function so it can be reapplied as I try different ways to determine Americaness\n",
    "\n",
    "# TODO: Label users with how likely they are to be American, so we can analyze how the percentage of American users, changed over time, and their behavior over time and through COVID"
   ]
  }
 ],
 "metadata": {
  "kernelspec": {
   "display_name": "cscd25",
   "language": "python",
   "name": "cscd25"
  },
  "language_info": {
   "codemirror_mode": {
    "name": "ipython",
    "version": 3
   },
   "file_extension": ".py",
   "mimetype": "text/x-python",
   "name": "python",
   "nbconvert_exporter": "python",
   "pygments_lexer": "ipython3",
   "version": "3.9.18"
  }
 },
 "nbformat": 4,
 "nbformat_minor": 5
}
